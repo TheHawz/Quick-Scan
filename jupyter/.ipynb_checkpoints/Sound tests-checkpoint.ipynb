{
 "cells": [
  {
   "cell_type": "code",
   "execution_count": 73,
   "id": "multiple-senator",
   "metadata": {},
   "outputs": [],
   "source": [
    "import os\n",
    "import numpy as np\n",
    "from matplotlib import pyplot as plt"
   ]
  },
  {
   "cell_type": "code",
   "execution_count": 74,
   "id": "mounted-interval",
   "metadata": {},
   "outputs": [],
   "source": [
    "size_of_frame = np.loadtxt(os.path.join('..', 'data', 'size_of_frame.txt'))\n",
    "x_data = np.loadtxt(os.path.join('..', 'data', 'x_data.txt'))\n",
    "y_data = np.loadtxt(os.path.join('..', 'data', 'y_data.txt'))\n",
    "audio = np.loadt xt(os.path.join('..', 'data', 'audio.txt'))"
   ]
  },
  {
   "cell_type": "code",
   "execution_count": 75,
   "id": "acoustic-natural",
   "metadata": {},
   "outputs": [],
   "source": [
    "audio = np.random.rand(len(x_data)*1470, 1)*2-1\n"
   ]
  },
  {
   "cell_type": "code",
   "execution_count": 76,
   "id": "equivalent-example",
   "metadata": {},
   "outputs": [
    {
     "data": {
      "text/plain": [
       "True"
      ]
     },
     "execution_count": 76,
     "metadata": {},
     "output_type": "execute_result"
    }
   ],
   "source": [
    "len(x_data)/30 == len(audio)/44100"
   ]
  },
  {
   "cell_type": "code",
   "execution_count": 77,
   "id": "chief-radio",
   "metadata": {},
   "outputs": [],
   "source": [
    "import numpy as np\n",
    "import cv2\n",
    "\n",
    "\n",
    "class Grid:\n",
    "\n",
    "    def __init__(self, size_of_frame, number_of_rows, number_of_cols, padding=0):\n",
    "        \"\"\"Constructor\n",
    "\n",
    "        Args:\n",
    "            size_of_frame (numpy.array): (horizontal, vertical)\n",
    "            number_of_rows (int): \n",
    "            number_of_cols (int): \n",
    "            padding (int, optional): Padding arround the border. Defaults to 0.\n",
    "        \"\"\"\n",
    "        self.size_of_frame = size_of_frame\n",
    "        self.config(number_of_rows, number_of_cols, padding)\n",
    "\n",
    "    def config(self,  number_of_rows, number_of_cols, padding=0):\n",
    "        self.number_of_rows = number_of_rows\n",
    "        self.number_of_cols = number_of_cols\n",
    "        self.padding = padding\n",
    "        self.padding_coords = np.array(\n",
    "            [self.padding, self.padding]).astype(int)\n",
    "\n",
    "        self.real_size = np.round(\n",
    "            self.size_of_frame - (self.padding_coords * 2)).astype(int)\n",
    "\n",
    "        self.grid_size = np.array(\n",
    "            [self.real_size[0] / self.number_of_rows,\n",
    "             self.real_size[1] / self.number_of_cols])\n",
    "\n",
    "        self.hor_div = [int(self.real_size[1] / self.number_of_rows * i + padding)\n",
    "                        for i in range(self.number_of_rows + 1)]\n",
    "        self.ver_div = [int(self.real_size[0] / self.number_of_cols * i + padding)\n",
    "                        for i in range(self.number_of_cols + 1)]\n",
    "\n",
    "    def locate_point(self, point):\n",
    "        point_grid_coords = np.array(point) - self.padding_coords\n",
    "        return np.floor(point_grid_coords / self.grid_size).astype(int)\n",
    "\n",
    "    def draw_grid(self, frame, color=(180, 180, 180), thickness=1):\n",
    "        \"\"\" \n",
    "            TODO: se puede optimizar mucho: \n",
    "            crear una mascara que luego se reutilice para colorear todos \n",
    "            los frames siguientes\n",
    "        \"\"\"\n",
    "        # DRAW HORIZONTAL DIVISIONS\n",
    "        for div in self.hor_div:\n",
    "            start_point = (self.padding, div)\n",
    "            end_point = (self.size_of_frame[0]-self.padding, div)\n",
    "            cv2.line(frame, start_point, end_point, color, thickness)\n",
    "\n",
    "        # DRAW VERTICAL DIVISIONS\n",
    "        for div in self.ver_div:\n",
    "            start_point = (div, self.padding)\n",
    "            end_point = (div, self.size_of_frame[1]-self.padding)\n",
    "            cv2.line(frame, start_point, end_point, color, thickness)\n",
    "\n",
    "        return frame"
   ]
  },
  {
   "cell_type": "code",
   "execution_count": 78,
   "id": "neutral-porcelain",
   "metadata": {
    "scrolled": true
   },
   "outputs": [
    {
     "name": "stdout",
     "output_type": "stream",
     "text": [
      "{(0, 7): [0, 0], (8, 10): [0, 1], (11, 11): [0, 0], (12, 13): [0, 1], (14, 50): [1, 1], (51, 67): [0, 1], (68, 85): [0, 0], (86, 98): [1, 0], (99, 113): [1, 1], (114, 129): [0, 1]}\n"
     ]
    }
   ],
   "source": [
    "data = np.transpose(np.array([x_data, y_data]))\n",
    "\n",
    "grid = Grid(size_of_frame, 2, 3, 20)\n",
    "grid_list = []\n",
    "for x, y in data:\n",
    "    grid_id = grid.locate_point((x, y))\n",
    "    grid_id = [int(i) for i in grid_id] # np.array to python list\n",
    "    grid_list.append(grid_id)\n",
    "\n",
    "start = 0\n",
    "end = 0\n",
    "grid = grid_list[0]\n",
    "\n",
    "dictionary = {}\n",
    "\n",
    "for index in range(len(grid_list)):\n",
    "    _grid = grid_list[index]\n",
    "\n",
    "    if grid == _grid:\n",
    "        end = index\n",
    "    else:\n",
    "        dictionary[(start, end)] = _grid\n",
    "        start = index\n",
    "        end = index\n",
    "        grid = _grid\n",
    "\n",
    "print(dictionary)"
   ]
  },
  {
   "cell_type": "code",
   "execution_count": null,
   "id": "mediterranean-printer",
   "metadata": {},
   "outputs": [],
   "source": []
  },
  {
   "cell_type": "code",
   "execution_count": null,
   "id": "superior-effect",
   "metadata": {},
   "outputs": [],
   "source": []
  },
  {
   "cell_type": "code",
   "execution_count": null,
   "id": "independent-indian",
   "metadata": {},
   "outputs": [],
   "source": [
    "\n"
   ]
  },
  {
   "cell_type": "code",
   "execution_count": null,
   "id": "regular-fence",
   "metadata": {},
   "outputs": [],
   "source": []
  },
  {
   "cell_type": "code",
   "execution_count": null,
   "id": "outstanding-assault",
   "metadata": {},
   "outputs": [],
   "source": []
  }
 ],
 "metadata": {
  "kernelspec": {
   "display_name": "Python 3",
   "language": "python",
   "name": "python3"
  },
  "language_info": {
   "codemirror_mode": {
    "name": "ipython",
    "version": 3
   },
   "file_extension": ".py",
   "mimetype": "text/x-python",
   "name": "python",
   "nbconvert_exporter": "python",
   "pygments_lexer": "ipython3",
   "version": "3.8.8"
  }
 },
 "nbformat": 4,
 "nbformat_minor": 5
}
