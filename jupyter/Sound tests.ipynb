{
 "cells": [
  {
   "cell_type": "code",
   "execution_count": 10,
   "id": "palestinian-roberts",
   "metadata": {},
   "outputs": [],
   "source": [
    "import os\n",
    "import numpy as np\n",
    "from matplotlib import pyplot as plt"
   ]
  },
  {
   "cell_type": "code",
   "execution_count": 26,
   "id": "hawaiian-adventure",
   "metadata": {},
   "outputs": [
    {
     "output_type": "stream",
     "name": "stdout",
     "text": [
      "[ nan  nan  nan  nan  nan  nan  nan  nan  nan  nan  nan  nan  nan  nan\n  nan  nan  nan  nan  nan  nan  nan  nan  nan  nan  nan  nan  nan  nan\n  nan  nan  nan  nan  nan  nan  nan  nan  nan  nan  nan  nan  nan  nan\n  nan  nan  nan  nan  nan  nan  nan  nan  nan  nan  nan  nan  nan  nan\n  nan  nan  nan  nan  nan  nan  nan  nan  nan  nan  nan 368. 368. 364.\n  nan 362. 358. 358. 358. 358. 358. 358. 358. 358. 358. 362. 362.  nan\n 362. 364. 364. 364. 364.  nan 368. 368. 368. 364. 364. 368. 364. 364.\n 368. 364. 364. 368. 364. 368. 368. 370. 368. 368. 374. 374. 374. 376.\n 376. 376. 376. 376. 376. 376. 380. 376. 376. 374. 374. 370. 370. 368.\n 362.  nan  nan 356.  nan  nan 350. 346.  nan 344.  nan  nan  nan  nan\n  nan  nan  nan 328. 328.  nan  nan 326.  nan  nan  nan  nan 314. 310.\n 314.  nan  nan  nan 304. 308.  nan 302. 302.  nan 302. 302.  nan 296.\n 290.  nan  nan 286. 286. 284. 284.  nan 278. 278. 274.  nan  nan  nan\n  nan 268. 266.  nan  nan  nan 260. 256. 256. 254. 250.  nan  nan 244.\n 242. 238. 238. 236.  nan 232. 232.  nan  nan 224. 220. 220. 218. 218.\n  nan 214. 208. 206. 202.  nan  nan  nan 196.  nan  nan  nan 178. 178.\n  nan  nan  nan  nan 164. 164. 164.  nan 158. 158. 158.  nan  nan 142.\n 142.  nan  nan  nan  nan 134. 130. 128. 128.  nan  nan  nan 122. 118.\n 118.  nan  nan 116. 116.  nan 112. 112. 110.  nan  nan 110. 110.  nan\n 106. 106.  nan 104.  nan  nan 100.  nan  nan 100.  nan  nan  nan  nan\n 100.  nan  nan  nan  nan 104.  nan 104.  nan 104. 106. 106. 106.  nan\n  nan  nan  nan  nan  nan 104.  nan  nan 104.  nan  nan  nan  nan  nan\n  nan  nan  nan 100.  nan  nan  nan  nan  nan  nan  nan  nan  nan  nan\n  nan  nan  nan  nan  nan  nan  nan  nan  nan  nan  nan  nan  nan 106.\n  nan  nan 106.  nan 106.  nan 106.  nan  nan 106. 106. 106. 106.  nan\n  nan  nan 110.  nan  nan  nan 110. 110. 112. 112.  nan 112. 116. 116.\n  nan 116. 116. 116. 116.  nan 116. 116. 116.  nan  nan 118.  nan  nan\n  nan  nan  nan 122.  nan  nan  nan 124. 128.  nan 130. 130. 130. 136.\n 136. 136. 142. 142. 142.  nan 148. 148.  nan 154. 158. 160. 164. 164.\n 166. 166.  nan 172. 176. 176. 176. 178. 182. 184.  nan 188. 190. 194.\n 194. 196. 200. 200.  nan  nan  nan 208. 212. 214. 218. 220. 224. 224.\n  nan  nan  nan  nan 236. 236. 236. 238. 238. 238. 242. 242. 242. 244.\n  nan 244.  nan 248. 248. 248. 250.  nan  nan  nan  nan  nan 250. 254.\n 254. 254. 256. 260. 262. 266. 268. 272. 272. 274.  nan 284. 286. 292.\n 296. 296. 302. 304. 308.  nan  nan  nan  nan  nan 328. 332. 332. 338.\n 340.  nan 344. 344.  nan 356. 356.  nan 356.  nan  nan 364.  nan 364.\n 364.  nan  nan  nan  nan  nan  nan  nan  nan  nan  nan  nan  nan 380.\n  nan  nan  nan  nan 374.  nan 382.  nan  nan  nan 382. 386. 382. 386.\n  nan 382.  nan 386.  nan 386. 388. 388.  nan 388. 386. 392.  nan  nan\n  nan  nan 388. 386. 386.  nan  nan  nan  nan  nan 382. 380. 380.  nan\n 376. 380. 376. 380.  nan  nan  nan 376. 380. 380. 376. 376.  nan  nan\n  nan 380.  nan  nan  nan 374. 376. 380. 376. 380.  nan  nan 382. 382.\n  nan  nan 388.  nan  nan  nan  nan  nan  nan 410. 410. 410. 416. 418.\n  nan  nan  nan 428. 424. 430. 430. 436. 440.  nan 440. 442. 446.  nan\n  nan 454. 460. 460. 464.  nan 476. 476.  nan 478. 478. 478. 484. 488.\n 490.  nan  nan  nan  nan 502. 506. 512. 508. 508. 514. 524. 524. 524.\n 524. 530. 532. 526. 532. 526. 532. 530.  nan  nan 532. 530. 530. 530.\n 530. 530. 526. 524.  nan 520. 524.  nan 524. 520. 520. 524.  nan 524.\n  nan 524.  nan 524. 524. 524. 526. 524. 526. 526.  nan  nan 524.  nan\n 524. 524. 520. 520. 520. 520. 518. 518. 518. 514.  nan  nan 508. 508.\n 506. 502.  nan 496.  nan 490. 488.  nan 488. 478.  nan  nan  nan  nan\n 460. 458. 452.  nan 446. 440. 436. 434.  nan  nan  nan 424. 422. 416.\n 416.  nan  nan 406.  nan  nan  nan 394. 388. 386.  nan  nan  nan  nan\n 374.  nan 368.  nan  nan  nan 358. 356.  nan 346. 346.  nan  nan  nan\n  nan  nan  nan  nan  nan  nan  nan  nan  nan 314. 314.  nan 314.  nan\n  nan  nan  nan  nan  nan  nan  nan  nan  nan 284.  nan  nan 278.  nan\n 274. 272.  nan  nan  nan  nan  nan  nan  nan  nan  nan  nan  nan  nan\n  nan  nan  nan  nan  nan  nan  nan  nan  nan  nan  nan 262. 262.  nan\n  nan  nan  nan 260. 260. 260.  nan  nan 260. 260. 256. 256.  nan  nan\n 256. 256. 254. 254.  nan  nan  nan 248.  nan  nan  nan  nan  nan 242.\n 238. 236. 236.  nan  nan 230.  nan 224. 224.  nan  nan  nan  nan 206.\n  nan  nan  nan 196. 188. 184. 188. 188.  nan  nan  nan  nan  nan  nan\n  nan  nan  nan  nan  nan  nan  nan  nan  nan  nan  nan  nan  nan  nan\n  nan  nan  nan  nan  nan  nan  nan  nan  nan  nan  nan  nan  nan  nan\n  nan  nan  nan  nan  nan  nan  nan  nan  nan  nan  nan  nan  nan  nan\n  nan  nan  nan  nan  nan  nan  nan  nan  nan  nan  nan  nan  nan  nan\n  nan  nan  nan  nan]\n"
     ]
    }
   ],
   "source": [
    "size_of_frame = np.loadtxt(os.path.join('..', 'data', 'size_of_frame.txt'))\n",
    "x_data = np.loadtxt(os.path.join('..', 'data', 'x_data.txt'))\n",
    "y_data = np.loadtxt(os.path.join('..', 'data', 'y_data.txt'))\n",
    "# audio = np.loadtxt(os.path.join('..', 'data', 'audio.wav'))"
   ]
  },
  {
   "cell_type": "code",
   "execution_count": 14,
   "id": "interesting-cattle",
   "metadata": {},
   "outputs": [],
   "source": [
    "audio = np.random.rand(len(x_data)*1470, 1)*2-1\n"
   ]
  },
  {
   "cell_type": "code",
   "execution_count": 15,
   "id": "similar-demand",
   "metadata": {},
   "outputs": [
    {
     "output_type": "execute_result",
     "data": {
      "text/plain": [
       "True"
      ]
     },
     "metadata": {},
     "execution_count": 15
    }
   ],
   "source": [
    "len(x_data)/30 == len(audio)/44100"
   ]
  },
  {
   "cell_type": "code",
   "execution_count": 16,
   "id": "paperback-ranking",
   "metadata": {},
   "outputs": [],
   "source": [
    "import numpy as np\n",
    "import cv2\n",
    "\n",
    "\n",
    "class Grid:\n",
    "\n",
    "    def __init__(self, size_of_frame, number_of_rows, number_of_cols, padding=0):\n",
    "        \"\"\"Constructor\n",
    "\n",
    "        Args:\n",
    "            size_of_frame (numpy.array): (horizontal, vertical)\n",
    "            number_of_rows (int): \n",
    "            number_of_cols (int): \n",
    "            padding (int, optional): Padding arround the border. Defaults to 0.\n",
    "        \"\"\"\n",
    "        self.size_of_frame = size_of_frame\n",
    "        self.config(number_of_rows, number_of_cols, padding)\n",
    "\n",
    "    def config(self,  number_of_rows, number_of_cols, padding=0):\n",
    "        self.number_of_rows = number_of_rows\n",
    "        self.number_of_cols = number_of_cols\n",
    "        self.padding = padding\n",
    "        self.padding_coords = np.array(\n",
    "            [self.padding, self.padding]).astype(int)\n",
    "\n",
    "        self.real_size = np.round(\n",
    "            self.size_of_frame - (self.padding_coords * 2)).astype(int)\n",
    "\n",
    "        self.grid_size = np.array(\n",
    "            [self.real_size[0] / self.number_of_rows,\n",
    "             self.real_size[1] / self.number_of_cols])\n",
    "\n",
    "        self.hor_div = [int(self.real_size[1] / self.number_of_rows * i + padding)\n",
    "                        for i in range(self.number_of_rows + 1)]\n",
    "        self.ver_div = [int(self.real_size[0] / self.number_of_cols * i + padding)\n",
    "                        for i in range(self.number_of_cols + 1)]\n",
    "\n",
    "    def locate_point(self, point):\n",
    "        point_grid_coords = np.array(point) - self.padding_coords\n",
    "        return np.floor(point_grid_coords / self.grid_size).astype(int)\n",
    "\n",
    "    def draw_grid(self, frame, color=(180, 180, 180), thickness=1):\n",
    "        \"\"\" \n",
    "            TODO: se puede optimizar mucho: \n",
    "            crear una mascara que luego se reutilice para colorear todos \n",
    "            los frames siguientes\n",
    "        \"\"\"\n",
    "        # DRAW HORIZONTAL DIVISIONS\n",
    "        for div in self.hor_div:\n",
    "            start_point = (self.padding, div)\n",
    "            end_point = (self.size_of_frame[0]-self.padding, div)\n",
    "            cv2.line(frame, start_point, end_point, color, thickness)\n",
    "\n",
    "        # DRAW VERTICAL DIVISIONS\n",
    "        for div in self.ver_div:\n",
    "            start_point = (div, self.padding)\n",
    "            end_point = (div, self.size_of_frame[1]-self.padding)\n",
    "            cv2.line(frame, start_point, end_point, color, thickness)\n",
    "\n",
    "        return frame"
   ]
  },
  {
   "source": [
    "### Instrucciones\n",
    "  - Primero hay que hacer \"trim\" a la data (video y audio)\n",
    "  - Interpolar => interpolate_nan\n",
    "  - y luego extraer los tramos"
   ],
   "cell_type": "markdown",
   "metadata": {}
  },
  {
   "cell_type": "code",
   "execution_count": 32,
   "metadata": {},
   "outputs": [
    {
     "output_type": "stream",
     "name": "stdout",
     "text": [
      "Initial length of array: 862\nTriming last block of Nan values: length = 1\nActual length of the Array: 861\nInitial length of array: 862\nTriming last block of Nan values: length = 1\nActual length of the Array: 861\n"
     ]
    }
   ],
   "source": [
    "module_path = os.path.abspath(os.path.join('..'))\n",
    "if module_path not in sys.path:\n",
    "    sys.path.append(module_path)\n",
    "\n",
    "from package.services.path import interpolate_nan\n",
    "\n",
    "x_data = interpolate_nan(x_data)\n",
    "y_data = interpolate_nan(y_data)\n"
   ]
  },
  {
   "cell_type": "code",
   "execution_count": 66,
   "id": "removed-america",
   "metadata": {
    "scrolled": true
   },
   "outputs": [
    {
     "output_type": "stream",
     "name": "stdout",
     "text": [
      "{(0, 0): [], (1, 0): [(484, 534)], (0, 1): [(150, 298), (676, 762)], (1, 1): [(299, 483), (535, 675)], (0, 2): [(0, 149), (763, 850)], (1, 2): []}\n"
     ]
    }
   ],
   "source": [
    "data = np.transpose(np.array([x_data, y_data]))\n",
    "\n",
    "grid = Grid(size_of_frame, 2, 3, 20)\n",
    "\n",
    "start = 0\n",
    "end = 0 \n",
    "actual_grid = None\n",
    "\n",
    "# Generate dictionary of the grid\n",
    "dictionary = {}\n",
    "for i in range(grid.number_of_cols):\n",
    "    for j in range(grid.number_of_rows):\n",
    "        dictionary[(j, i)] = []\n",
    "\n",
    "for index in range(len(grid_list)):\n",
    "    # Get x, y coords\n",
    "    x, y = data[index]\n",
    "    \n",
    "    # Locate the coords in the grid system\n",
    "    _grid = grid.locate_point((x, y))\n",
    "    _grid = [int(i) for i in _grid] # np.array to python list\n",
    "\n",
    "    if index == 0: actual_grid = _grid\n",
    "\n",
    "    if actual_grid == _grid:\n",
    "        end = index\n",
    "    else:\n",
    "        a = (_grid[0], _grid[1])\n",
    "        dictionary[a].append((start, end))\n",
    "        start = index\n",
    "        end = index\n",
    "        actual_grid = _grid\n",
    "\n",
    "print(dictionary)"
   ]
  },
  {
   "cell_type": "code",
   "execution_count": 50,
   "id": "cordless-better",
   "metadata": {},
   "outputs": [
    {
     "output_type": "error",
     "ename": "TypeError",
     "evalue": "unhashable type: 'list'",
     "traceback": [
      "\u001b[1;31m---------------------------------------------------------------------------\u001b[0m",
      "\u001b[1;31mTypeError\u001b[0m                                 Traceback (most recent call last)",
      "\u001b[1;32m<ipython-input-50-74d5f09b9011>\u001b[0m in \u001b[0;36m<module>\u001b[1;34m\u001b[0m\n\u001b[0;32m      2\u001b[0m \u001b[1;32mfor\u001b[0m \u001b[0mi\u001b[0m \u001b[1;32min\u001b[0m \u001b[0mrange\u001b[0m\u001b[1;33m(\u001b[0m\u001b[0mgrid\u001b[0m\u001b[1;33m.\u001b[0m\u001b[0mnumber_of_cols\u001b[0m\u001b[1;33m)\u001b[0m\u001b[1;33m:\u001b[0m\u001b[1;33m\u001b[0m\u001b[1;33m\u001b[0m\u001b[0m\n\u001b[0;32m      3\u001b[0m     \u001b[1;32mfor\u001b[0m \u001b[0mj\u001b[0m \u001b[1;32min\u001b[0m \u001b[0mrange\u001b[0m\u001b[1;33m(\u001b[0m\u001b[0mgrid\u001b[0m\u001b[1;33m.\u001b[0m\u001b[0mnumber_of_rows\u001b[0m\u001b[1;33m)\u001b[0m\u001b[1;33m:\u001b[0m\u001b[1;33m\u001b[0m\u001b[1;33m\u001b[0m\u001b[0m\n\u001b[1;32m----> 4\u001b[1;33m         \u001b[0md\u001b[0m\u001b[1;33m[\u001b[0m\u001b[1;33m[\u001b[0m\u001b[0mi\u001b[0m\u001b[1;33m,\u001b[0m\u001b[0mj\u001b[0m\u001b[1;33m]\u001b[0m\u001b[1;33m]\u001b[0m \u001b[1;33m=\u001b[0m \u001b[1;33m[\u001b[0m\u001b[1;33m]\u001b[0m\u001b[1;33m\u001b[0m\u001b[1;33m\u001b[0m\u001b[0m\n\u001b[0m\u001b[0;32m      5\u001b[0m \u001b[0md\u001b[0m\u001b[1;33m\u001b[0m\u001b[1;33m\u001b[0m\u001b[0m\n",
      "\u001b[1;31mTypeError\u001b[0m: unhashable type: 'list'"
     ]
    }
   ],
   "source": [
    "\n",
    "d"
   ]
  },
  {
   "cell_type": "code",
   "execution_count": 3,
   "id": "hawaiian-myrtle",
   "metadata": {},
   "outputs": [],
   "source": [
    "from PyOctaveBand import PyOctaveBand \n",
    "\n"
   ]
  },
  {
   "cell_type": "code",
   "execution_count": null,
   "id": "working-candidate",
   "metadata": {},
   "outputs": [],
   "source": []
  },
  {
   "cell_type": "code",
   "execution_count": 95,
   "id": "referenced-scenario",
   "metadata": {},
   "outputs": [
    {
     "name": "stdout",
     "output_type": "stream",
     "text": [
      "[2021-04-15_12:26:20] data.txt\n"
     ]
    }
   ],
   "source": [
    "from datetime import datetime\n",
    "file_name='data.txt'\n",
    "now = datetime.now()\n",
    "date = now.strftime(\"[%Y-%m-%d_%H:%M:%S] \")\n",
    "file_name = date + file_name\n",
    "print(file_name)\n"
   ]
  },
  {
   "cell_type": "code",
   "execution_count": null,
   "id": "affected-peeing",
   "metadata": {
    "collapsed": true
   },
   "outputs": [],
   "source": []
  }
 ],
 "metadata": {
  "kernelspec": {
   "name": "python388jvsc74a57bd0f641ec73ad67d23dfa083aab8a842a58c3f6a229537b77e9c57604dbf69394b9",
   "display_name": "Python 3.8.8 64-bit ('tfg': conda)"
  },
  "language_info": {
   "codemirror_mode": {
    "name": "ipython",
    "version": 3
   },
   "file_extension": ".py",
   "mimetype": "text/x-python",
   "name": "python",
   "nbconvert_exporter": "python",
   "pygments_lexer": "ipython3",
   "version": "3.8.8"
  }
 },
 "nbformat": 4,
 "nbformat_minor": 5
}