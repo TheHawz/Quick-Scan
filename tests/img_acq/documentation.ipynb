{
 "metadata": {
  "language_info": {
   "codemirror_mode": {
    "name": "ipython",
    "version": 3
   },
   "file_extension": ".py",
   "mimetype": "text/x-python",
   "name": "python",
   "nbconvert_exporter": "python",
   "pygments_lexer": "ipython3",
   "version": "3.9.5"
  },
  "orig_nbformat": 2,
  "kernelspec": {
   "name": "python395jvsc74a57bd0f641ec73ad67d23dfa083aab8a842a58c3f6a229537b77e9c57604dbf69394b9",
   "display_name": "Python 3.9.5 64-bit ('tfg': conda)"
  }
 },
 "nbformat": 4,
 "nbformat_minor": 2,
 "cells": [
  {
   "source": [
    "# Documentación para el sistema de adquisición de imagen.\n",
    "\n",
    "Este sistema se encarga de localizar el micrófono en una imagen. Ha de ser suficientemente preciso como para minimizar el error y suficientemente rapido como para poder ejecutarse a 30fps, tiempo real.\n",
    "\n",
    "*Nota*: la respuesta en frecuencia de la esfera (y por lo tanto el error que introduce en la medición del campo acustico) no se incluye en este documento. Consultar documentación correspondiente para encontrar esta información.\n",
    "\n",
    "## Dimensiones de la esfera\n",
    "\n",
    "- Diametro: 8 cm\n",
    "- Tamaño de los radios: 12 mm\n",
    "\n",
    "## Error de medición: Posición\n",
    "\n",
    "Para medir este error usaremos una bateria de fotos tomadas con la cámara usada para el proyecto. Estas fotos serán etiquetadas manualmente y serán pasadas a través del sistema. Con la diferencia entre la \"ground_truth\" (gt a partir de ahora) y los resultados que devuelve nuestro sistema, calcularemos el error medido como la diferencia en pixeles de la posicion real y la adquirida."
   ],
   "cell_type": "markdown",
   "metadata": {}
  },
  {
   "source": [
    "import os\n",
    "import json\n",
    "import cv2\n",
    "import numpy as np\n",
    "\n",
    "module_path = os.path.abspath(os.path.join('..', '..'))\n",
    "if module_path not in sys.path:\n",
    "    sys.path.append(module_path)\n",
    "\n",
    "from app.package.services.mask import get_mask, get_circles\n",
    "from app.package.services import imbasic as imb\n"
   ],
   "cell_type": "code",
   "metadata": {},
   "execution_count": 1,
   "outputs": []
  },
  {
   "cell_type": "code",
   "execution_count": 2,
   "metadata": {},
   "outputs": [],
   "source": [
    "# Get list of images\n",
    "dir_img = os.path.join('imgs')\n",
    "img_list = os.listdir(dir_img)\n",
    "\n",
    "imgs = list(filter(lambda x: x.endswith('.png'), img_list))\n",
    "# print(imgs)\n"
   ]
  },
  {
   "cell_type": "code",
   "execution_count": 3,
   "metadata": {},
   "outputs": [],
   "source": [
    "def process_frame(frame):\n",
    "    mask = get_mask(frame)\n",
    "    return get_circles(mask), mask"
   ]
  },
  {
   "cell_type": "code",
   "execution_count": 4,
   "metadata": {},
   "outputs": [
    {
     "output_type": "stream",
     "name": "stdout",
     "text": [
      "fn in 110.png\n",
      "fn in 140.png\n",
      "fn in 170.png\n",
      "fn in 190.png\n",
      "fn in 200.png\n",
      "fn in 210.png\n",
      "fn in 220.png\n",
      "fn in 230.png\n",
      "fn in 290.png\n",
      "fn in 300.png\n",
      "fn in 380.png\n",
      "fn in 390.png\n",
      "fn in 40.png\n",
      "fn in 420.png\n",
      "fn in 430.png\n",
      "fn in 480.png\n",
      "fn in 520.png\n",
      "fn in 540.png\n",
      "fn in 80.png\n",
      "fn in 830.png\n"
     ]
    }
   ],
   "source": [
    "dists = []\n",
    "show = False\n",
    "\n",
    "fn = 0\n",
    "\n",
    "for index, img_name in enumerate(imgs):\n",
    "    ann_path = os.path.join('tfg-microphone-detection', img_name+'.json')\n",
    "    img_path = os.path.join('imgs', img_name)\n",
    "\n",
    "    with open(ann_path) as json_file:\n",
    "        data = json.load(json_file)\n",
    "        if len(data['objects']) == 0:\n",
    "            continue\n",
    "        gt = data['objects'][0]['points']['exterior'][0]\n",
    "\n",
    "    frame = cv2.imread(img_path)\n",
    "    circles, mask = process_frame(frame)\n",
    "    if circles is None:\n",
    "        # False negative\n",
    "        fn += 1\n",
    "        print(f'fn in {img_name}')\n",
    "        imb.imshow(frame, win_name='img')\n",
    "        imb.imshow(mask, win_name='mask')\n",
    "        cv2.waitKey(0)\n",
    "        continue\n",
    "\n",
    "    pt = circles[0][0][:2]\n",
    "    if show and index < 10:\n",
    "        frame = cv2.circle(frame, (gt[0], gt[1]), 2, (0, 255, 0), 4)\n",
    "        x, y = [int(p) for p in pt]\n",
    "        print(x, y)\n",
    "        frame = cv2.rectangle(frame, (x - 2, y - 2), (x + 2, y + 2), (0, 128, 255), -1)\n",
    "        imb.imshow(frame, win_name=str(index))\n",
    "    \n",
    "    error = gt-pt\n",
    "    dist = np.sqrt(error[0]**2 + error[1]**2)\n",
    "    dists.append(dist)\n",
    "\n",
    "    \n",
    "if show: \n",
    "    cv2.waitKey(0)\n",
    "cv2.destroyAllWindows()"
   ]
  },
  {
   "cell_type": "code",
   "execution_count": 21,
   "metadata": {},
   "outputs": [
    {
     "output_type": "stream",
     "name": "stdout",
     "text": [
      "Total of images: 75\nFalse negatives: 20\nMean = 8.42\nSTD  = 4.41\nMax  = 22.64\nMin  = 0.71\n"
     ]
    }
   ],
   "source": [
    "# print(dists)\n",
    "print(f'Total of images: {len(imgs)}')\n",
    "print(f'False negatives: {fn}')\n",
    "print('Mean =', round(np.mean(dists), 2))\n",
    "print('STD  =', round(np.std(dists), 2))\n",
    "print('Max  =', round(np.max(dists), 2))\n",
    "print('Min  =', round(np.min(dists), 2))"
   ]
  },
  {
   "cell_type": "code",
   "execution_count": null,
   "metadata": {},
   "outputs": [],
   "source": []
  }
 ]
}